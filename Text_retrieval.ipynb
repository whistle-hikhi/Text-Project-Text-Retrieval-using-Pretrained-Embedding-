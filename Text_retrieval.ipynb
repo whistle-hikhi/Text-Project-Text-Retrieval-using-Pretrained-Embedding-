{
 "cells": [
  {
   "cell_type": "code",
   "execution_count": null,
   "metadata": {},
   "outputs": [
    {
     "name": "stdout",
     "output_type": "stream",
     "text": [
      "Collecting datasets==2.13.1\n",
      "  Downloading datasets-2.13.1-py3-none-any.whl (486 kB)\n",
      "                                              0.0/486.2 kB ? eta -:--:--\n",
      "                                              0.0/486.2 kB ? eta -:--:--\n",
      "                                              0.0/486.2 kB ? eta -:--:--\n",
      "     ----                                     51.2/486.2 kB ? eta -:--:--\n",
      "     ----                                    61.4/486.2 kB 1.6 MB/s eta 0:00:01\n",
      "     -----                                 71.7/486.2 kB 975.2 kB/s eta 0:00:01\n",
      "     -----                                 71.7/486.2 kB 975.2 kB/s eta 0:00:01\n",
      "     -----                                 71.7/486.2 kB 975.2 kB/s eta 0:00:01\n",
      "     -------                               92.2/486.2 kB 435.7 kB/s eta 0:00:01\n",
      "     -------                               92.2/486.2 kB 435.7 kB/s eta 0:00:01\n",
      "     --------                             112.6/486.2 kB 363.1 kB/s eta 0:00:02\n",
      "     --------                             112.6/486.2 kB 363.1 kB/s eta 0:00:02\n",
      "     --------                             112.6/486.2 kB 363.1 kB/s eta 0:00:02\n",
      "     ---------                            122.9/486.2 kB 257.2 kB/s eta 0:00:02\n",
      "     ----------                           143.4/486.2 kB 274.5 kB/s eta 0:00:02\n",
      "     ----------                           143.4/486.2 kB 274.5 kB/s eta 0:00:02\n",
      "     -----------                          153.6/486.2 kB 254.6 kB/s eta 0:00:02\n",
      "     -----------                          153.6/486.2 kB 254.6 kB/s eta 0:00:02\n",
      "     ------------                         174.1/486.2 kB 243.8 kB/s eta 0:00:02\n",
      "     --------------                       194.6/486.2 kB 250.8 kB/s eta 0:00:02\n",
      "     --------------                       194.6/486.2 kB 250.8 kB/s eta 0:00:02\n",
      "     ---------------                      204.8/486.2 kB 235.0 kB/s eta 0:00:02\n",
      "     ---------------                      204.8/486.2 kB 235.0 kB/s eta 0:00:02\n",
      "     -----------------                    235.5/486.2 kB 248.4 kB/s eta 0:00:02\n",
      "     ------------------                   256.0/486.2 kB 253.6 kB/s eta 0:00:01\n",
      "     ----------------------               307.2/486.2 kB 297.0 kB/s eta 0:00:01\n",
      "     --------------------------           358.4/486.2 kB 327.5 kB/s eta 0:00:01\n",
      "     -------------------------------      419.8/486.2 kB 364.1 kB/s eta 0:00:01\n",
      "     ------------------------------------ 486.2/486.2 kB 411.4 kB/s eta 0:00:00\n",
      "Requirement already satisfied: numpy>=1.17 in c:\\users\\nguye\\anaconda3\\lib\\site-packages (from datasets==2.13.1) (1.24.3)\n",
      "Requirement already satisfied: pyarrow>=8.0.0 in c:\\users\\nguye\\anaconda3\\lib\\site-packages (from datasets==2.13.1) (11.0.0)\n",
      "Requirement already satisfied: dill<0.3.7,>=0.3.0 in c:\\users\\nguye\\anaconda3\\lib\\site-packages (from datasets==2.13.1) (0.3.6)\n",
      "Requirement already satisfied: pandas in c:\\users\\nguye\\anaconda3\\lib\\site-packages (from datasets==2.13.1) (1.5.3)\n",
      "Requirement already satisfied: requests>=2.19.0 in c:\\users\\nguye\\anaconda3\\lib\\site-packages (from datasets==2.13.1) (2.29.0)\n",
      "Requirement already satisfied: tqdm>=4.62.1 in c:\\users\\nguye\\anaconda3\\lib\\site-packages (from datasets==2.13.1) (4.65.0)\n",
      "Collecting xxhash (from datasets==2.13.1)\n",
      "  Downloading xxhash-3.2.0-cp311-cp311-win_amd64.whl (30 kB)\n",
      "Collecting multiprocess (from datasets==2.13.1)\n",
      "  Downloading multiprocess-0.70.14-py310-none-any.whl (134 kB)\n",
      "                                              0.0/134.3 kB ? eta -:--:--\n",
      "     ------------------                       61.4/134.3 kB ? eta -:--:--\n",
      "     -------------------                   71.7/134.3 kB 991.0 kB/s eta 0:00:01\n",
      "     -------------------------------------- 134.3/134.3 kB 1.6 MB/s eta 0:00:00\n",
      "Requirement already satisfied: fsspec[http]>=2021.11.1 in c:\\users\\nguye\\anaconda3\\lib\\site-packages (from datasets==2.13.1) (2023.3.0)\n",
      "Requirement already satisfied: aiohttp in c:\\users\\nguye\\anaconda3\\lib\\site-packages (from datasets==2.13.1) (3.8.3)\n",
      "Collecting huggingface-hub<1.0.0,>=0.11.0 (from datasets==2.13.1)\n",
      "  Downloading huggingface_hub-0.16.4-py3-none-any.whl (268 kB)\n",
      "                                              0.0/268.8 kB ? eta -:--:--\n",
      "     ----------                              71.7/268.8 kB 1.9 MB/s eta 0:00:01\n",
      "     --------------------------             184.3/268.8 kB 2.8 MB/s eta 0:00:01\n",
      "     ---------------------------------      235.5/268.8 kB 2.0 MB/s eta 0:00:01\n",
      "     ---------------------------------      235.5/268.8 kB 2.0 MB/s eta 0:00:01\n",
      "     ---------------------------------      235.5/268.8 kB 2.0 MB/s eta 0:00:01\n",
      "     -------------------------------------- 268.8/268.8 kB 1.2 MB/s eta 0:00:00\n",
      "Requirement already satisfied: packaging in c:\\users\\nguye\\anaconda3\\lib\\site-packages (from datasets==2.13.1) (23.0)\n",
      "Requirement already satisfied: pyyaml>=5.1 in c:\\users\\nguye\\anaconda3\\lib\\site-packages (from datasets==2.13.1) (6.0)\n",
      "Requirement already satisfied: attrs>=17.3.0 in c:\\users\\nguye\\anaconda3\\lib\\site-packages (from aiohttp->datasets==2.13.1) (22.1.0)\n",
      "Requirement already satisfied: charset-normalizer<3.0,>=2.0 in c:\\users\\nguye\\anaconda3\\lib\\site-packages (from aiohttp->datasets==2.13.1) (2.0.4)\n",
      "Requirement already satisfied: multidict<7.0,>=4.5 in c:\\users\\nguye\\anaconda3\\lib\\site-packages (from aiohttp->datasets==2.13.1) (6.0.2)\n",
      "Requirement already satisfied: async-timeout<5.0,>=4.0.0a3 in c:\\users\\nguye\\anaconda3\\lib\\site-packages (from aiohttp->datasets==2.13.1) (4.0.2)\n",
      "Requirement already satisfied: yarl<2.0,>=1.0 in c:\\users\\nguye\\anaconda3\\lib\\site-packages (from aiohttp->datasets==2.13.1) (1.8.1)\n",
      "Requirement already satisfied: frozenlist>=1.1.1 in c:\\users\\nguye\\anaconda3\\lib\\site-packages (from aiohttp->datasets==2.13.1) (1.3.3)\n",
      "Requirement already satisfied: aiosignal>=1.1.2 in c:\\users\\nguye\\anaconda3\\lib\\site-packages (from aiohttp->datasets==2.13.1) (1.2.0)\n",
      "Requirement already satisfied: filelock in c:\\users\\nguye\\anaconda3\\lib\\site-packages (from huggingface-hub<1.0.0,>=0.11.0->datasets==2.13.1) (3.9.0)\n",
      "Requirement already satisfied: typing-extensions>=3.7.4.3 in c:\\users\\nguye\\anaconda3\\lib\\site-packages (from huggingface-hub<1.0.0,>=0.11.0->datasets==2.13.1) (4.6.3)\n",
      "Requirement already satisfied: idna<4,>=2.5 in c:\\users\\nguye\\anaconda3\\lib\\site-packages (from requests>=2.19.0->datasets==2.13.1) (3.4)\n",
      "Requirement already satisfied: urllib3<1.27,>=1.21.1 in c:\\users\\nguye\\anaconda3\\lib\\site-packages (from requests>=2.19.0->datasets==2.13.1) (1.26.16)\n",
      "Requirement already satisfied: certifi>=2017.4.17 in c:\\users\\nguye\\anaconda3\\lib\\site-packages (from requests>=2.19.0->datasets==2.13.1) (2023.5.7)\n",
      "Requirement already satisfied: colorama in c:\\users\\nguye\\anaconda3\\lib\\site-packages (from tqdm>=4.62.1->datasets==2.13.1) (0.4.6)\n",
      "Requirement already satisfied: python-dateutil>=2.8.1 in c:\\users\\nguye\\anaconda3\\lib\\site-packages (from pandas->datasets==2.13.1) (2.8.2)\n",
      "Requirement already satisfied: pytz>=2020.1 in c:\\users\\nguye\\anaconda3\\lib\\site-packages (from pandas->datasets==2.13.1) (2022.7)\n",
      "Requirement already satisfied: six>=1.5 in c:\\users\\nguye\\anaconda3\\lib\\site-packages (from python-dateutil>=2.8.1->pandas->datasets==2.13.1) (1.16.0)\n",
      "Installing collected packages: xxhash, multiprocess, huggingface-hub, datasets\n",
      "Successfully installed datasets-2.13.1 huggingface-hub-0.16.4 multiprocess-0.70.14 xxhash-3.2.0\n"
     ]
    }
   ],
   "source": [
    "%pip install datasets==2.13.1"
   ]
  },
  {
   "cell_type": "code",
   "execution_count": null,
   "metadata": {},
   "outputs": [],
   "source": [
    "from datasets import load_dataset\n",
    "\n",
    "dataset = load_dataset('ms_marco','v1.1')"
   ]
  },
  {
   "cell_type": "code",
   "execution_count": null,
   "metadata": {},
   "outputs": [],
   "source": [
    "subset = dataset['test']"
   ]
  },
  {
   "cell_type": "code",
   "execution_count": null,
   "metadata": {},
   "outputs": [],
   "source": [
    "queries_infos = []\n",
    "queries = []\n",
    "corpus = []\n",
    "\n",
    "for sample in subset:\n",
    "    query_type = sample['query_type']\n",
    "    if query_type != 'entity':\n",
    "        continue\n",
    "    query_id = sample['query_id']\n",
    "    query_str = sample['query']\n",
    "    passages_dict = sample['passages']\n",
    "    is_selected_lst = passages_dict['is_selected']\n",
    "    passage_text_lst = passages_dict['passage_text']\n",
    "    query_info = {\n",
    "        'query_id': query_id,\n",
    "        'query': query_str,\n",
    "        'relevant_docs': []\n",
    "    }\n",
    "    current_len_corpus = len(corpus)\n",
    "    for idx in range(len(is_selected_lst)):\n",
    "        if is_selected_lst[idx] == 1:\n",
    "            doc_idx = current_len_corpus + idx\n",
    "            query_info['relevant_docs'].append(doc_idx)\n",
    "\n",
    "    if query_info['relevant_docs'] == []:\n",
    "        continue\n",
    "\n",
    "    queries.append(query_str)\n",
    "    queries_infos.append(query_info)\n",
    "    corpus += passage_text_lst"
   ]
  },
  {
   "cell_type": "markdown",
   "metadata": {},
   "source": [
    "# Text Normalization"
   ]
  },
  {
   "cell_type": "code",
   "execution_count": null,
   "metadata": {},
   "outputs": [],
   "source": [
    "def tokenize(text):\n",
    "    return text.split()"
   ]
  },
  {
   "cell_type": "code",
   "execution_count": null,
   "metadata": {},
   "outputs": [],
   "source": [
    "import string\n",
    "import nltk\n",
    "from nltk.corpus import stopwords\n",
    "from nltk.stem import PorterStemmer\n",
    "\n",
    "nltk.download('stopwords')\n",
    "english_stopwords = stopwords.words('english')\n",
    "remove_chars = string.punctuation\n",
    "stemmer = PorterStemmer()\n",
    "\n",
    "def text_normalize(text):\n",
    "    text = text.lower()\n",
    "    for char in remove_chars:\n",
    "        text = text.replace(char, '')\n",
    "    text = ' '.join([word for word in tokenize(text) if word not in english_stopwords])\n",
    "    text = ' '.join([stemmer.stem(word) for word in tokenize(text)])\n",
    "\n",
    "    return text"
   ]
  },
  {
   "cell_type": "markdown",
   "metadata": {},
   "source": [
    "# Create Dictionary"
   ]
  },
  {
   "cell_type": "code",
   "execution_count": null,
   "metadata": {},
   "outputs": [],
   "source": [
    "def create_dictionary(corpus):\n",
    "    dictionary = []\n",
    "    for doc in corpus:\n",
    "        normalized_doc = text_normalize(doc)\n",
    "        tokens = tokenize(normalized_doc)\n",
    "        for token in tokens:\n",
    "            if token not in dictionary:\n",
    "                dictionary.append(token)\n",
    "\n",
    "    return dictionary"
   ]
  },
  {
   "cell_type": "code",
   "execution_count": null,
   "metadata": {},
   "outputs": [],
   "source": [
    "%%time\n",
    "dictionary = create_dictionary(corpus)"
   ]
  },
  {
   "cell_type": "markdown",
   "metadata": {},
   "source": [
    "# Create Doc-Term Matrix"
   ]
  },
  {
   "cell_type": "code",
   "execution_count": null,
   "metadata": {},
   "outputs": [],
   "source": [
    "def vectorize(text, dictionary):\n",
    "    word_count_dict = {word: 0 for word in dictionary}\n",
    "    normalized_text = text_normalize(text)\n",
    "    tokens = tokenize(normalized_text)\n",
    "    for token in tokens:\n",
    "        try:\n",
    "            word_count_dict[token] += 1\n",
    "        except:\n",
    "            pass\n",
    "\n",
    "    vector = list(word_count_dict.values())\n",
    "\n",
    "    return vector"
   ]
  },
  {
   "cell_type": "code",
   "execution_count": null,
   "metadata": {},
   "outputs": [],
   "source": [
    "def create_doc_term_matrix(corpus, dictionary):\n",
    "    doc_term_matrix = {}\n",
    "    for idx, doc in enumerate(corpus):\n",
    "        vector = vectorize(doc, dictionary)\n",
    "        doc_term_matrix[(doc, idx)] = vector\n",
    "\n",
    "    return doc_term_matrix"
   ]
  },
  {
   "cell_type": "markdown",
   "metadata": {},
   "source": [
    "# Ranking"
   ]
  },
  {
   "cell_type": "code",
   "execution_count": null,
   "metadata": {},
   "outputs": [],
   "source": [
    "from scipy import spatial\n",
    "\n",
    "def similarity(a, b):\n",
    "    return 1 - spatial.distance.cosine(a, b)"
   ]
  },
  {
   "cell_type": "code",
   "execution_count": null,
   "metadata": {},
   "outputs": [],
   "source": [
    "def ranking(query, dictionary, doc_term_matrix):\n",
    "    query_vec = vectorize(query, dictionary)\n",
    "    scores = []\n",
    "    for doc_info, doc_vec in doc_term_matrix.items():\n",
    "        sim = similarity(query_vec, doc_vec)\n",
    "        scores.append((sim, doc_info))\n",
    "    scores.sort(reverse=True)\n",
    "\n",
    "    return scores"
   ]
  },
  {
   "cell_type": "code",
   "execution_count": null,
   "metadata": {},
   "outputs": [],
   "source": [
    "query_lst = ['what is the official language in Fiji']\n",
    "top_k = 10\n",
    "for query in query_lst:\n",
    "    scores = ranking(query, dictionary, doc_term_matrix)\n",
    "    print(f'Query: {query}')\n",
    "    print('=== Relevant docs ===')\n",
    "    for idx in range(top_k):\n",
    "        doc_score = scores[idx][0]\n",
    "        doc_content = scores[idx][1][0]\n",
    "\n",
    "        print(f'Top {idx + 1}; Score: {doc_score:.4f}')\n",
    "        print(doc_content)\n",
    "        print('\\n')"
   ]
  },
  {
   "cell_type": "markdown",
   "metadata": {},
   "source": [
    "# Text Retrieval with Sentence Transformers"
   ]
  },
  {
   "cell_type": "code",
   "execution_count": null,
   "metadata": {},
   "outputs": [],
   "source": [
    "!pip install datasets sentence_transformers"
   ]
  },
  {
   "cell_type": "code",
   "execution_count": null,
   "metadata": {},
   "outputs": [],
   "source": [
    "import torch\n",
    "from sentence_transformers import SentenceTransformer\n",
    "\n",
    "model = SentenceTransformer('all-MiniLM-L6-v2')\n",
    "corpus_embeddings = model.encode(corpus, convert_to_tensor=True)"
   ]
  },
  {
   "cell_type": "code",
   "execution_count": null,
   "metadata": {},
   "outputs": [],
   "source": [
    "from sentence_transformers import util\n",
    "\n",
    "def similarity(query_embeddings, corpus_embeddings):\n",
    "    return util.cos_sim(query_embeddings, corpus_embeddings)[0]"
   ]
  },
  {
   "cell_type": "code",
   "execution_count": null,
   "metadata": {},
   "outputs": [],
   "source": [
    "def ranking(query, top_k=10):\n",
    "    query_embeddings = model.encode(\n",
    "        query,\n",
    "        convert_to_tensor=True\n",
    "    )\n",
    "    cos_scores = similarity(\n",
    "        query_embeddings,\n",
    "        corpus_embeddings\n",
    "    )\n",
    "    top_results = torch.topk(cos_scores, k=top_k)\n",
    "\n",
    "    return top_results"
   ]
  },
  {
   "cell_type": "code",
   "execution_count": null,
   "metadata": {},
   "outputs": [],
   "source": [
    "custom_queries = ['what is the official language in Fiji']\n",
    "\n",
    "top_k = min(5, len(corpus))\n",
    "for query in custom_queries:\n",
    "    top_results = ranking(query, top_k)\n",
    "\n",
    "    print(\"Query:\", query)\n",
    "    print(\"\\n======================\")\n",
    "    print(f\"Top {top_k} most similar sentences in corpus:\\n\")\n",
    "\n",
    "    for idx, (score, doc_idx) in enumerate(\n",
    "        zip(top_results[0], top_results[1])\n",
    "    ):\n",
    "        print(f'Document rank {idx + 1}:')\n",
    "        print(corpus[doc_idx], f'\\n(Score: {score:.4f})', '\\n')"
   ]
  }
 ],
 "metadata": {
  "kernelspec": {
   "display_name": "base",
   "language": "python",
   "name": "python3"
  },
  "language_info": {
   "codemirror_mode": {
    "name": "ipython",
    "version": 3
   },
   "file_extension": ".py",
   "mimetype": "text/x-python",
   "name": "python",
   "nbconvert_exporter": "python",
   "pygments_lexer": "ipython3",
   "version": "3.11.3"
  },
  "orig_nbformat": 4
 },
 "nbformat": 4,
 "nbformat_minor": 2
}
